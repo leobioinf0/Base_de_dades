{
  "nbformat": 4,
  "nbformat_minor": 0,
  "metadata": {
    "colab": {
      "name": "S13_T01_Relational_databases.ipynb",
      "provenance": [],
      "collapsed_sections": [],
      "toc_visible": true,
      "authorship_tag": "ABX9TyMDHZJeiu16aAZM3+IuzV0O",
      "include_colab_link": true
    },
    "kernelspec": {
      "name": "python3",
      "display_name": "Python 3"
    },
    "language_info": {
      "name": "python"
    }
  },
  "cells": [
    {
      "cell_type": "markdown",
      "metadata": {
        "id": "view-in-github",
        "colab_type": "text"
      },
      "source": [
        "<a href=\"https://colab.research.google.com/github/leobioinf0/Base_de_dades/blob/main/S13_T01_Relational_databases.ipynb\" target=\"_parent\"><img src=\"https://colab.research.google.com/assets/colab-badge.svg\" alt=\"Open In Colab\"/></a>"
      ]
    },
    {
      "cell_type": "markdown",
      "metadata": {
        "id": "38mTTSRuHt1h"
      },
      "source": [
        "# IT Academy - Data Science with Python\n",
        "## Sprint 13. Relational databases\n",
        "### S13 T01: Relational databases\n"
      ]
    },
    {
      "cell_type": "markdown",
      "metadata": {
        "id": "6WgwJjyh8_lc"
      },
      "source": [
        "## Level 1\n",
        "\n",
        "- Exercise 1  \n",
        "\n",
        "  - Create a sample relational database using a text or handwritten document. Design it to contain the following tables, and establish the relationships you deem necessary between them:\n",
        "\n",
        "    - Table of purchases (transactions)\n",
        "\n",
        "    - Table of establishments\n",
        "\n",
        "    - Table of workers\n",
        "\n",
        "    - Table of clients\n",
        "\n",
        "    - Table of products\n",
        "\n",
        "    - Product type table\n",
        "\n",
        "  - Defines the properties of the relationships (1: 1, 1: n, n: n), and create some of the variables that could contain, for example:\n",
        "\n",
        "    - Table of establishments\n",
        "\n",
        "      - IDestabliment (unique key)\n",
        "\n",
        "      - Nom\n",
        "\n",
        "      - Location\n",
        "\n",
        "      - Surface\n",
        "  \n"
      ]
    },
    {
      "cell_type": "markdown",
      "source": [
        "<img src=\"https://github.com/leobioinf0/Base_de_dades/blob/main/ex01_Relational_databases.png?raw=true\">"
      ],
      "metadata": {
        "id": "hwZkCkdtbfpr"
      }
    },
    {
      "cell_type": "markdown",
      "metadata": {
        "id": "5myz4fh98_lf"
      },
      "source": [
        "## Level 2\n",
        "\n",
        "- Exercise 2:\n",
        "\n",
        "  - Use an entity-relationship diagram creation program like http://dia-installer.de to create the diagram."
      ]
    },
    {
      "cell_type": "markdown",
      "metadata": {
        "id": "12AIsWwk8_lf"
      },
      "source": [
        "I have used [lucidchart](https://www.lucidchart.com/)\n",
        "\n",
        "<img src=\"https://github.com/leobioinf0/Base_de_dades/blob/main/ex02_Relational_databases.png?raw=true\">"
      ]
    },
    {
      "cell_type": "markdown",
      "metadata": {
        "id": "oOKp92CZ8_li"
      },
      "source": [
        "## Level 3\n",
        "\n",
        "- Exerxise 3:\n",
        "  - Use the MySQL Workbench to create a relational model."
      ]
    },
    {
      "cell_type": "markdown",
      "metadata": {
        "id": "jz2maU7z8_lj"
      },
      "source": [
        "SQL comands to create de data base\n",
        "\n",
        "```sql\n",
        "DROP DATABASE IF EXISTS tienda;\n",
        "CREATE DATABASE tienda;\n",
        "USE tienda;\n",
        "CREATE TABLE CUSTOMERS (\n",
        "  customer_ID INT NOT NULL AUTO_INCREMENT PRIMARY KEY,\n",
        "  customer_name VARCHAR(40) NOT NULL,\n",
        "  customer_lastname VARCHAR(40) NOT NULL,\n",
        "  customer_street VARCHAR(40) NULL,\n",
        "  customer_city VARCHAR(40) NULL,\n",
        "  customer_zip INT NULL,\n",
        "  customer_phone VARCHAR(40) NULL,\n",
        "  customer_email VARCHAR(40) NOT NULL\n",
        ");\n",
        "CREATE TABLE ESTABLISHMENT (\n",
        "  establishment_ID INT NOT NULL AUTO_INCREMENT PRIMARY KEY,\n",
        "  establishment_name VARCHAR(40) NOT NULL,\n",
        "  establishment_street VARCHAR(40) NOT NULL,\n",
        "  establishment_city VARCHAR(40) NOT NULL,\n",
        "  establishmentr_zip INT NOT NULL,\n",
        "  establishment_phone VARCHAR(40) NOT NULL,\n",
        "  establishment_email VARCHAR(40) NOT NULL,\n",
        "  establishment_start DATE NOT NULL,\n",
        "  establishment_ends DATE NULL\n",
        ");\n",
        "CREATE TABLE WORKERS (\n",
        "  worker_ID INT NOT NULL AUTO_INCREMENT PRIMARY KEY,\n",
        "  establishment_ID INT NOT NULL,\n",
        "  worker_name VARCHAR(40) NOT NULL,\n",
        "  worker_lastname VARCHAR(40) NOT NULL,\n",
        "  worker_gender VARCHAR(10) NOT NULL,\n",
        "  worker_category VARCHAR(40) NOT NULL,\n",
        "  worker_start DATE NOT NULL,\n",
        "  worker_end DATE NULL,\n",
        "  FOREIGN KEY (establishment_ID) REFERENCES ESTABLISHMENT (establishment_ID)\n",
        ");\n",
        "CREATE TABLE PRODUCT_TYPE (\n",
        "  product_type_ID INT NOT NULL AUTO_INCREMENT PRIMARY KEY,\n",
        "  product_type_name VARCHAR(40) NOT NULL,\n",
        "  product_type_description VARCHAR(40) NOT NULL\n",
        ");\n",
        "CREATE TABLE PRODUCTS (\n",
        "  product_ID INT NOT NULL AUTO_INCREMENT PRIMARY KEY,\n",
        "  product_type_ID INT NOT NULL,\n",
        "  product_name VARCHAR(40) NOT NULL,\n",
        "  product_price FLOAT NOT NULL,\n",
        "  product_color VARCHAR(40) NOT NULL,\n",
        "  product_size FLOAT NOT NULL,\n",
        "  product_description VARCHAR(40) NOT NULL,\n",
        "  FOREIGN KEY (product_type_ID) REFERENCES PRODUCT_TYPE (product_type_ID)\n",
        ");\n",
        "CREATE TABLE TRANSACTION (\n",
        "  transaction_ID INT NOT NULL AUTO_INCREMENT PRIMARY KEY,\n",
        "  customer_ID INT NOT NULL,\n",
        "  product_ID INT NOT NULL,\n",
        "  worker_ID INT NOT NULL,\n",
        "  transaction_quantity INT NOT NULL,\n",
        "  transaction_price FLOAT NOT NULL,\n",
        "  transaction_date DATETIME NOT NULL,\n",
        "  transaction_details VARCHAR(40) NULL,\n",
        "  FOREIGN KEY (customer_ID) REFERENCES CUSTOMERS (customer_ID),\n",
        "  FOREIGN KEY (product_ID) REFERENCES PRODUCTS (product_ID),\n",
        "  FOREIGN KEY (worker_ID) REFERENCES WORKERS (worker_ID)\n",
        ");\n",
        "```\n",
        "\n"
      ]
    },
    {
      "cell_type": "markdown",
      "source": [
        "<img src=\"https://github.com/leobioinf0/Base_de_dades/blob/main/ex03_Relational_databases.png?raw=true\">"
      ],
      "metadata": {
        "id": "q9GxqEb4HKgT"
      }
    }
  ]
}